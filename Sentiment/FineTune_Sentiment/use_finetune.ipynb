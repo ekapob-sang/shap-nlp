{
 "cells": [
  {
   "cell_type": "code",
   "execution_count": 10,
   "metadata": {},
   "outputs": [],
   "source": [
    "# Data processing\n",
    "import pandas as pd\n",
    "import numpy as np\n",
    "\n",
    "# Modeling\n",
    "from transformers import AutoTokenizer, AutoModelForSequenceClassification\n",
    "from transformers import pipeline\n",
    "\n",
    "\n",
    "import sys  \n",
    "sys.path.insert(0, '/Users/johanneswidera/Uni/bachelorarbeit/Code/models/')\n",
    "\n",
    "from Sentiment.pipeline.helper import read_imdb_split,download_data\n",
    "\n",
    "\n",
    "\n"
   ]
  },
  {
   "cell_type": "code",
   "execution_count": 13,
   "metadata": {},
   "outputs": [],
   "source": [
    "# Load tokenizer\n",
    "tokenizer = AutoTokenizer.from_pretrained(\"../../FineTunedBERT/Sentiment/24060142\")\n",
    "\n",
    "# Load model\n",
    "loaded_model = AutoModelForSequenceClassification.from_pretrained(\"../../FineTunedBERT/Sentiment/24060142\")"
   ]
  },
  {
   "cell_type": "code",
   "execution_count": 22,
   "metadata": {},
   "outputs": [],
   "source": [
    "model = pipeline('sentiment-analysis', model=loaded_model, tokenizer=tokenizer, max_length=512, truncation=True ) \n",
    "\n",
    "# Test"
   ]
  },
  {
   "attachments": {},
   "cell_type": "markdown",
   "metadata": {},
   "source": [
    "## ohne max_length tritt fehler auf\n",
    "Der Fehler scheint nicht direkt in dem von Ihnen bereitgestellten Code aufzutreten. Allerdings ist es möglich, dass das Problem mit der Größe der Eingabesequenzen in corpus_test zusammenhängt. Da das Modell, das Sie verwenden, auf einer maximalen Sequenzlänge von 512 trainiert wurde, sollten Sie sicherstellen, dass Ihre Eingabesequenzen auf diese Länge beschränkt sind.\n",
    "\n",
    "### ist das nicht bad practice wenn reviews über 512 token lang sind?\n",
    "\n",
    "Ja, das ist richtig. Das Abschneiden von Texten, die länger als 512 Token sind, kann zu Informationsverlust führen und möglicherweise die Genauigkeit Ihrer Sentiment-Analyse beeinträchtigen. Um dieses Problem zu umgehen, können Sie eine der folgenden Methoden anwenden:\n",
    "\n",
    "  1. Text in kleinere Abschnitte aufteilen: Teilen Sie den Text in Abschnitte mit einer Länge von höchstens 512 Token auf und führen Sie die Sentiment-Analyse für jeden Abschnitt durch. Anschließend können Sie die Ergebnisse aggregieren, um das Gesamtsentiment des gesamten Textes zu bestimmen.\n",
    "  2. Längere Modelle verwenden: Sie können Modelle wie Longformer oder BigBird verwenden, die für längere Textsequenzen entwickelt wurden. Diese Modelle können Eingaben mit einer Länge von mehr als 512 Token verarbeiten, ohne dass eine Trunkierung erforderlich ist. Beachten Sie jedoch, dass diese Modelle in der Regel rechenintensiver sind und längere Verarbeitungszeiten erfordern.\n",
    "  3. Text komprimieren: Versuchen Sie, den Text zu komprimieren, indem Sie irrelevante Informationen und redundante Wörter entfernen, um die Token-Anzahl zu reduzieren. Dies kann jedoch schwierig sein, da es das Risiko birgt, wichtige Informationen zu verlieren und den Kontext des Textes zu verändern.\n",
    "\n",
    "https://stackoverflow.com/questions/58636587/how-to-use-bert-for-long-text-classification"
   ]
  },
  {
   "attachments": {},
   "cell_type": "markdown",
   "metadata": {},
   "source": [
    "## 2. Load Data\n",
    "\n",
    "Load data to analyze with SHAP"
   ]
  },
  {
   "cell_type": "code",
   "execution_count": 15,
   "metadata": {},
   "outputs": [
    {
     "name": "stderr",
     "output_type": "stream",
     "text": [
      "/Users/johanneswidera/Uni/bachelorarbeit/Code/models/Sentiment/pipeline/helper.py:38: MarkupResemblesLocatorWarning: The input looks more like a filename than markup. You may want to open this file and pass the filehandle into Beautiful Soup.\n",
      "  soup = BeautifulSoup(text, 'html.parser')\n"
     ]
    }
   ],
   "source": [
    "download_data()\n",
    "corpus_train, y_train = read_imdb_split('../data/aclImdb/train')\n",
    "corpus_test, y_test = read_imdb_split('../data/aclImdb/test')"
   ]
  },
  {
   "attachments": {},
   "cell_type": "markdown",
   "metadata": {},
   "source": [
    "# 3. Evaluate Model Again"
   ]
  },
  {
   "cell_type": "code",
   "execution_count": 36,
   "metadata": {},
   "outputs": [],
   "source": [
    "N_SAMPLES =1000\n",
    "predictions = model.predict(corpus_test)"
   ]
  },
  {
   "cell_type": "code",
   "execution_count": 52,
   "metadata": {},
   "outputs": [
    {
     "data": {
      "text/plain": [
       "[{'label': 'LABEL_1', 'score': 0.9973391890525818},\n",
       " {'label': 'LABEL_1', 'score': 0.9945743680000305}]"
      ]
     },
     "execution_count": 52,
     "metadata": {},
     "output_type": "execute_result"
    }
   ],
   "source": [
    "model.predict(corpus_test[:2])"
   ]
  },
  {
   "cell_type": "code",
   "execution_count": 37,
   "metadata": {},
   "outputs": [],
   "source": [
    "predicted_labels = [prediction['label'] for prediction in predictions]\n",
    "label_mapping = {\"LABEL_1\": 1, \"LABEL_0\": 0}\n",
    "predicted_labels_int = [label_mapping[label] for label in predicted_labels]"
   ]
  },
  {
   "cell_type": "code",
   "execution_count": 38,
   "metadata": {},
   "outputs": [
    {
     "data": {
      "text/plain": [
       "{'accuracy': 0.914}"
      ]
     },
     "execution_count": 38,
     "metadata": {},
     "output_type": "execute_result"
    }
   ],
   "source": [
    "from datasets import load_metric\n",
    "\n",
    "metric = load_metric('accuracy')\n",
    "metric.compute(predictions=predicted_labels_int, references=y_test[:N_SAMPLES])"
   ]
  },
  {
   "cell_type": "code",
   "execution_count": 40,
   "metadata": {},
   "outputs": [
    {
     "name": "stderr",
     "output_type": "stream",
     "text": [
      "Partition explainer:  10%|█         | 1/10 [00:00<?, ?it/s]\n",
      "\u001b[A\n",
      "\u001b[A\n",
      "\u001b[A\n",
      "\u001b[A\n",
      "\u001b[A\n",
      "Partition explainer:  30%|███       | 3/10 [00:23<00:41,  5.89s/it]\n",
      "\u001b[A\n",
      "\u001b[A\n",
      "\u001b[A\n",
      "\u001b[A\n",
      "\u001b[A\n",
      "\u001b[A\n",
      "\u001b[A\n",
      "\u001b[A\n",
      "\u001b[A\n",
      "\u001b[A\n",
      "Partition explainer:  40%|████      | 4/10 [00:37<00:56,  9.36s/it]\n",
      "\u001b[A\n",
      "\u001b[A\n",
      "\u001b[A\n",
      "\u001b[A\n",
      "Partition explainer:  50%|█████     | 5/10 [00:48<00:50, 10.08s/it]\n",
      "\u001b[A\n",
      "\u001b[A\n",
      "\u001b[A\n",
      "\u001b[A\n",
      "Partition explainer:  60%|██████    | 6/10 [01:00<00:42, 10.51s/it]\n",
      "\u001b[A\n",
      "\u001b[A\n",
      "\u001b[A\n",
      "\u001b[A\n",
      "\u001b[A\n",
      "Partition explainer:  70%|███████   | 7/10 [01:11<00:32, 10.97s/it]\n",
      "\u001b[A\n",
      "\u001b[A\n",
      "\u001b[A\n",
      "\u001b[A\n",
      "Partition explainer:  80%|████████  | 8/10 [01:23<00:22, 11.12s/it]\n",
      "\u001b[A\n",
      "\u001b[A\n",
      "\u001b[A\n",
      "\u001b[A\n",
      "Partition explainer:  90%|█████████ | 9/10 [01:35<00:11, 11.28s/it]\n",
      "\u001b[A\n",
      "\u001b[A\n",
      "\u001b[A\n",
      "\u001b[A\n",
      "\u001b[A\n",
      "\u001b[A\n",
      "\u001b[A\n",
      "Partition explainer: 100%|██████████| 10/10 [01:47<00:00, 11.74s/it]\n",
      "\u001b[A\n",
      "\u001b[A\n",
      "\u001b[A\n",
      "\u001b[A\n",
      "\u001b[A\n",
      "\u001b[A\n",
      "Partition explainer: 11it [01:59, 11.97s/it]                        \n"
     ]
    }
   ],
   "source": [
    "# Playing around with the masker\n",
    "import shap\n",
    "\n",
    "masker = shap.maskers.Text(tokenizer=r\"\\W+\")\n",
    "explainer = shap.Explainer(model, masker=masker)\n",
    "shap_values = explainer(corpus_test[:10])\n"
   ]
  },
  {
   "attachments": {},
   "cell_type": "markdown",
   "metadata": {},
   "source": [
    "# Global Explanation\n",
    "\n"
   ]
  },
  {
   "cell_type": "code",
   "execution_count": 42,
   "metadata": {},
   "outputs": [
    {
     "name": "stderr",
     "output_type": "stream",
     "text": [
      "Creating an ndarray from ragged nested sequences (which is a list-or-tuple of lists-or-tuples-or ndarrays with different lengths or shapes) is deprecated. If you meant to do this, you must specify 'dtype=object' when creating the ndarray.\n"
     ]
    },
    {
     "data": {
      "image/png": "[encoded data removed]",
      "text/plain": [
       "<Figure size 500x500 with 1 Axes>"
      ]
     },
     "metadata": {},
     "output_type": "display_data"
    },
    {
     "data": {
      "image/png": "[encoded data removed]",
      "text/plain": [
       "<Figure size 500x500 with 1 Axes>"
      ]
     },
     "metadata": {},
     "output_type": "display_data"
    }
   ],
   "source": [
    "from custom_shap_explainer.custom_global import custom_global_explanation\n",
    "from custom_shap_explainer.signal_words import highlight_signal_words\n",
    "\n",
    "custom_global_explanation(shap_values[:,:,'LABEL_1'])"
   ]
  },
  {
   "cell_type": "code",
   "execution_count": 46,
   "metadata": {},
   "outputs": [
    {
     "data": {
      "text/html": [
       "<div style='font-size: 1.3em; line-height: 2em;'><div style='position:relative; padding: 8px 10px; background-color: #004369; display: inline-block'>\n",
       "                <span>yul</span>\n",
       "                <span style='font-size: 0.7em; position: absolute; top: -7px; left: 2px;'>-0.011</span>\n",
       "              </div> brynner was a symbol of villein in the tine of 50 s he play a role of russian leader in hungary at the time of revolution in this country in 1956 <div style='position:relative; padding: 8px 10px; background-color: #004369; display: inline-block'>\n",
       "                <span>that</span>\n",
       "                <span style='font-size: 0.7em; position: absolute; top: -7px; left: 2px;'>-0.011</span>\n",
       "              </div> made it <div style='position:relative; padding: 8px 10px; background-color: #004369; display: inline-block'>\n",
       "                <span>against</span>\n",
       "                <span style='font-size: 0.7em; position: absolute; top: -7px; left: 2px;'>-0.011</span>\n",
       "              </div> the marxism the script of this film made it by <div style='position:relative; padding: 8px 10px; background-color: #DB1F48; display: inline-block'>\n",
       "                <span>good</span>\n",
       "                <span style='font-size: 0.7em; position: absolute; top: -7px; left: 2px;'>0.037</span>\n",
       "              </div> taste from the writer that mixing love and adventure with showing different characters in the journey from hungary to england the <div style='position:relative; padding: 8px 10px; background-color: #DB1F48; display: inline-block'>\n",
       "                <span>best</span>\n",
       "                <span style='font-size: 0.7em; position: absolute; top: -7px; left: 2px;'>0.027</span>\n",
       "              </div> point in this film was the symbol of challenge from the hungarian <div style='position:relative; padding: 8px 10px; background-color: #DB1F48; display: inline-block'>\n",
       "                <span>resistance</span>\n",
       "                <span style='font-size: 0.7em; position: absolute; top: -7px; left: 2px;'>0.031</span>\n",
       "              </div> to <div style='position:relative; padding: 8px 10px; background-color: #004369; display: inline-block'>\n",
       "                <span>kill</span>\n",
       "                <span style='font-size: 0.7em; position: absolute; top: -7px; left: 2px;'>-0.013</span>\n",
       "              </div> the russian major <div style='position:relative; padding: 8px 10px; background-color: #004369; display: inline-block'>\n",
       "                <span>yul</span>\n",
       "                <span style='font-size: 0.7em; position: absolute; top: -7px; left: 2px;'>-0.025</span>\n",
       "              </div> brynner in the hall time of the film that made a meaning about the disadvantages of this major from his <div style='position:relative; padding: 8px 10px; background-color: #004369; display: inline-block'>\n",
       "                <span>bad</span>\n",
       "                <span style='font-size: 0.7em; position: absolute; top: -7px; left: 2px;'>-0.02</span>\n",
       "              </div> works <div style='position:relative; padding: 8px 10px; background-color: #004369; display: inline-block'>\n",
       "                <span>but</span>\n",
       "                <span style='font-size: 0.7em; position: absolute; top: -7px; left: 2px;'>-0.009</span>\n",
       "              </div> at the <div style='position:relative; padding: 8px 10px; background-color: #004369; display: inline-block'>\n",
       "                <span>end</span>\n",
       "                <span style='font-size: 0.7em; position: absolute; top: -7px; left: 2px;'>-0.014</span>\n",
       "              </div> he made a <div style='position:relative; padding: 8px 10px; background-color: #DB1F48; display: inline-block'>\n",
       "                <span>good</span>\n",
       "                <span style='font-size: 0.7em; position: absolute; top: -7px; left: 2px;'>0.115</span>\n",
       "              </div> <div style='position:relative; padding: 8px 10px; background-color: #DB1F48; display: inline-block'>\n",
       "                <span>work</span>\n",
       "                <span style='font-size: 0.7em; position: absolute; top: -7px; left: 2px;'>0.101</span>\n",
       "              </div> to <div style='position:relative; padding: 8px 10px; background-color: #DB1F48; display: inline-block'>\n",
       "                <span>help</span>\n",
       "                <span style='font-size: 0.7em; position: absolute; top: -7px; left: 2px;'>0.027</span>\n",
       "              </div> deborah kerr for escaping her and her darling to london to write in his book a good working to gain at the end people s agreement and trustment <div style='position:relative; padding: 8px 10px; background-color: #DB1F48; display: inline-block'>\n",
       "                <span>after</span>\n",
       "                <span style='font-size: 0.7em; position: absolute; top: -7px; left: 2px;'>0.041</span>\n",
       "              </div> <div style='position:relative; padding: 8px 10px; background-color: #DB1F48; display: inline-block'>\n",
       "                <span>his</span>\n",
       "                <span style='font-size: 0.7em; position: absolute; top: -7px; left: 2px;'>0.051</span>\n",
       "              </div> assassination by the hungarian resistance</div>"
      ],
      "text/plain": [
       "<IPython.core.display.HTML object>"
      ]
     },
     "metadata": {},
     "output_type": "display_data"
    }
   ],
   "source": [
    "highlight_signal_words(shap_values[0, : , 'LABEL_1'])"
   ]
  },
  {
   "cell_type": "code",
   "execution_count": 47,
   "metadata": {},
   "outputs": [
    {
     "data": {
      "text/html": [
       "<div style='font-size: 1.3em; line-height: 2em;'>this show has been performed live around the country with a wide <div style='position:relative; padding: 8px 10px; background-color: #DB1F48; display: inline-block'>\n",
       "                <span>variety</span>\n",
       "                <span style='font-size: 0.7em; position: absolute; top: -7px; left: 2px;'>0.021</span>\n",
       "              </div> of casts i saw it first in the provincetown production the first <div style='position:relative; padding: 8px 10px; background-color: #DB1F48; display: inline-block'>\n",
       "                <span>summer</span>\n",
       "                <span style='font-size: 0.7em; position: absolute; top: -7px; left: 2px;'>0.027</span>\n",
       "              </div> it was in p town 2001 before it was curiously enough banned in that overwhelmingly gay resort the codes which resulted in its closing have since been amended i saw it again later in the off <div style='position:relative; padding: 8px 10px; background-color: #DB1F48; display: inline-block'>\n",
       "                <span>broadway</span>\n",
       "                <span style='font-size: 0.7em; position: absolute; top: -7px; left: 2px;'>0.021</span>\n",
       "              </div> <div style='position:relative; padding: 8px 10px; background-color: #DB1F48; display: inline-block'>\n",
       "                <span>long</span>\n",
       "                <span style='font-size: 0.7em; position: absolute; top: -7px; left: 2px;'>0.021</span>\n",
       "              </div> running production in new <div style='position:relative; padding: 8px 10px; background-color: #004369; display: inline-block'>\n",
       "                <span>york</span>\n",
       "                <span style='font-size: 0.7em; position: absolute; top: -7px; left: 2px;'>-0.011</span>\n",
       "              </div> <div style='position:relative; padding: 8px 10px; background-color: #004369; display: inline-block'>\n",
       "                <span>oddly</span>\n",
       "                <span style='font-size: 0.7em; position: absolute; top: -7px; left: 2px;'>-0.011</span>\n",
       "              </div> enough the p town production was far better than the new york one fresher cuter more spirited and <div style='position:relative; padding: 8px 10px; background-color: #DB1F48; display: inline-block'>\n",
       "                <span>funnier</span>\n",
       "                <span style='font-size: 0.7em; position: absolute; top: -7px; left: 2px;'>0.038</span>\n",
       "              </div> but that was only in the 2001 showing subsequent attempts to clone the production bare naked lads in <div style='position:relative; padding: 8px 10px; background-color: #DB1F48; display: inline-block'>\n",
       "                <span>2007</span>\n",
       "                <span style='font-size: 0.7em; position: absolute; top: -7px; left: 2px;'>0.032</span>\n",
       "              </div> were <div style='position:relative; padding: 8px 10px; background-color: #DB1F48; display: inline-block'>\n",
       "                <span>definitely</span>\n",
       "                <span style='font-size: 0.7em; position: absolute; top: -7px; left: 2px;'>0.358</span>\n",
       "              </div> third rate this filmed production features a los angelos production cast and it <div style='position:relative; padding: 8px 10px; background-color: #004369; display: inline-block'>\n",
       "                <span>is</span>\n",
       "                <span style='font-size: 0.7em; position: absolute; top: -7px; left: 2px;'>-0.01</span>\n",
       "              </div> as other comments have <div style='position:relative; padding: 8px 10px; background-color: #004369; display: inline-block'>\n",
       "                <span>suggested</span>\n",
       "                <span style='font-size: 0.7em; position: absolute; top: -7px; left: 2px;'>-0.013</span>\n",
       "              </div> <div style='position:relative; padding: 8px 10px; background-color: #004369; display: inline-block'>\n",
       "                <span>not</span>\n",
       "                <span style='font-size: 0.7em; position: absolute; top: -7px; left: 2px;'>-0.137</span>\n",
       "              </div> the <div style='position:relative; padding: 8px 10px; background-color: #DB1F48; display: inline-block'>\n",
       "                <span>best</span>\n",
       "                <span style='font-size: 0.7em; position: absolute; top: -7px; left: 2px;'>0.075</span>\n",
       "              </div> i would rate it <div style='position:relative; padding: 8px 10px; background-color: #004369; display: inline-block'>\n",
       "                <span>somewhere</span>\n",
       "                <span style='font-size: 0.7em; position: absolute; top: -7px; left: 2px;'>-0.051</span>\n",
       "              </div> in between the top notch 2001 p town production <div style='position:relative; padding: 8px 10px; background-color: #DB1F48; display: inline-block'>\n",
       "                <span>and</span>\n",
       "                <span style='font-size: 0.7em; position: absolute; top: -7px; left: 2px;'>0.04</span>\n",
       "              </div> the third <div style='position:relative; padding: 8px 10px; background-color: #004369; display: inline-block'>\n",
       "                <span>rate</span>\n",
       "                <span style='font-size: 0.7em; position: absolute; top: -7px; left: 2px;'>-0.011</span>\n",
       "              </div> <div style='position:relative; padding: 8px 10px; background-color: #004369; display: inline-block'>\n",
       "                <span>bare</span>\n",
       "                <span style='font-size: 0.7em; position: absolute; top: -7px; left: 2px;'>-0.011</span>\n",
       "              </div> naked lads p town show from last <div style='position:relative; padding: 8px 10px; background-color: #DB1F48; display: inline-block'>\n",
       "                <span>summer</span>\n",
       "                <span style='font-size: 0.7em; position: absolute; top: -7px; left: 2px;'>0.024</span>\n",
       "              </div></div>"
      ],
      "text/plain": [
       "<IPython.core.display.HTML object>"
      ]
     },
     "metadata": {},
     "output_type": "display_data"
    }
   ],
   "source": [
    "highlight_signal_words(shap_values[1, : , 'LABEL_1'])"
   ]
  },
  {
   "cell_type": "code",
   "execution_count": 48,
   "metadata": {},
   "outputs": [
    {
     "data": {
      "text/html": [
       "<div style='font-size: 1.3em; line-height: 2em;'>to sum <div style='position:relative; padding: 8px 10px; background-color: #DB1F48; display: inline-block'>\n",
       "                <span>this</span>\n",
       "                <span style='font-size: 0.7em; position: absolute; top: -7px; left: 2px;'>0.04</span>\n",
       "              </div> <div style='position:relative; padding: 8px 10px; background-color: #DB1F48; display: inline-block'>\n",
       "                <span>story</span>\n",
       "                <span style='font-size: 0.7em; position: absolute; top: -7px; left: 2px;'>0.086</span>\n",
       "              </div> up in a few sentences a teenage girl amy uses <div style='position:relative; padding: 8px 10px; background-color: #DB1F48; display: inline-block'>\n",
       "                <span>her</span>\n",
       "                <span style='font-size: 0.7em; position: absolute; top: -7px; left: 2px;'>0.04</span>\n",
       "              </div> <div style='position:relative; padding: 8px 10px; background-color: #DB1F48; display: inline-block'>\n",
       "                <span>hot</span>\n",
       "                <span style='font-size: 0.7em; position: absolute; top: -7px; left: 2px;'>0.04</span>\n",
       "              </div> body and <div style='position:relative; padding: 8px 10px; background-color: #004369; display: inline-block'>\n",
       "                <span>supposed</span>\n",
       "                <span style='font-size: 0.7em; position: absolute; top: -7px; left: 2px;'>-0.087</span>\n",
       "              </div> <div style='position:relative; padding: 8px 10px; background-color: #004369; display: inline-block'>\n",
       "                <span>virginity</span>\n",
       "                <span style='font-size: 0.7em; position: absolute; top: -7px; left: 2px;'>-0.087</span>\n",
       "              </div> to entice a young troubled guy matt with a potential football scholarship to provide her a full ride out of town come to find out she has quite the reputation has slept with many football players in the past hoping they would <div style='position:relative; padding: 8px 10px; background-color: #DB1F48; display: inline-block'>\n",
       "                <span>offer</span>\n",
       "                <span style='font-size: 0.7em; position: absolute; top: -7px; left: 2px;'>0.038</span>\n",
       "              </div> <div style='position:relative; padding: 8px 10px; background-color: #DB1F48; display: inline-block'>\n",
       "                <span>her</span>\n",
       "                <span style='font-size: 0.7em; position: absolute; top: -7px; left: 2px;'>0.049</span>\n",
       "              </div> the same deal both of these kids have come from troubled dysfunctional homes matt s mothers a alcoholic who repeatedly embarrasses him in front of his <div style='position:relative; padding: 8px 10px; background-color: #DB1F48; display: inline-block'>\n",
       "                <span>friends</span>\n",
       "                <span style='font-size: 0.7em; position: absolute; top: -7px; left: 2px;'>0.028</span>\n",
       "              </div> amy s mother had a bad reputation herself got pregnant with amy at a a young age matt falls in love with amy tries to straighten out his life for her <div style='position:relative; padding: 8px 10px; background-color: #004369; display: inline-block'>\n",
       "                <span>very</span>\n",
       "                <span style='font-size: 0.7em; position: absolute; top: -7px; left: 2px;'>-0.05</span>\n",
       "              </div> <div style='position:relative; padding: 8px 10px; background-color: #004369; display: inline-block'>\n",
       "                <span>predictable</span>\n",
       "                <span style='font-size: 0.7em; position: absolute; top: -7px; left: 2px;'>-0.257</span>\n",
       "              </div> <div style='position:relative; padding: 8px 10px; background-color: #004369; display: inline-block'>\n",
       "                <span>ending</span>\n",
       "                <span style='font-size: 0.7em; position: absolute; top: -7px; left: 2px;'>-0.098</span>\n",
       "              </div> the <div style='position:relative; padding: 8px 10px; background-color: #004369; display: inline-block'>\n",
       "                <span>actress</span>\n",
       "                <span style='font-size: 0.7em; position: absolute; top: -7px; left: 2px;'>-0.09</span>\n",
       "              </div> <div style='position:relative; padding: 8px 10px; background-color: #004369; display: inline-block'>\n",
       "                <span>that</span>\n",
       "                <span style='font-size: 0.7em; position: absolute; top: -7px; left: 2px;'>-0.047</span>\n",
       "              </div> plays amy is actually 33 years old trying to play a teenager</div>"
      ],
      "text/plain": [
       "<IPython.core.display.HTML object>"
      ]
     },
     "metadata": {},
     "output_type": "display_data"
    }
   ],
   "source": [
    "highlight_signal_words(shap_values[2, : , 'LABEL_1'])"
   ]
  },
  {
   "cell_type": "code",
   "execution_count": 49,
   "metadata": {},
   "outputs": [
    {
     "data": {
      "text/html": [
       "<div style='font-size: 1.3em; line-height: 2em;'>this is <div style='position:relative; padding: 8px 10px; background-color: #DB1F48; display: inline-block'>\n",
       "                <span>absolutely</span>\n",
       "                <span style='font-size: 0.7em; position: absolute; top: -7px; left: 2px;'>0.045</span>\n",
       "              </div> beyond question the <div style='position:relative; padding: 8px 10px; background-color: #004369; display: inline-block'>\n",
       "                <span>worst</span>\n",
       "                <span style='font-size: 0.7em; position: absolute; top: -7px; left: 2px;'>-0.054</span>\n",
       "              </div> movie i have ever seen it is so <div style='position:relative; padding: 8px 10px; background-color: #004369; display: inline-block'>\n",
       "                <span>bad</span>\n",
       "                <span style='font-size: 0.7em; position: absolute; top: -7px; left: 2px;'>-0.074</span>\n",
       "              </div> in fact that i plan on <div style='position:relative; padding: 8px 10px; background-color: #004369; display: inline-block'>\n",
       "                <span>renting</span>\n",
       "                <span style='font-size: 0.7em; position: absolute; top: -7px; left: 2px;'>-0.05</span>\n",
       "              </div> it again as <div style='position:relative; padding: 8px 10px; background-color: #DB1F48; display: inline-block'>\n",
       "                <span>soon</span>\n",
       "                <span style='font-size: 0.7em; position: absolute; top: -7px; left: 2px;'>0.026</span>\n",
       "              </div> as i can find it this movie makes plan 9 from outer space look like an <div style='position:relative; padding: 8px 10px; background-color: #DB1F48; display: inline-block'>\n",
       "                <span>oscar</span>\n",
       "                <span style='font-size: 0.7em; position: absolute; top: -7px; left: 2px;'>0.03</span>\n",
       "              </div> contender just looking at the actors makes me want to laugh out loud i cannot say enough bad things about this movie it is <div style='position:relative; padding: 8px 10px; background-color: #004369; display: inline-block'>\n",
       "                <span>awfulness</span>\n",
       "                <span style='font-size: 0.7em; position: absolute; top: -7px; left: 2px;'>-0.066</span>\n",
       "              </div> <div style='position:relative; padding: 8px 10px; background-color: #004369; display: inline-block'>\n",
       "                <span>aproaches</span>\n",
       "                <span style='font-size: 0.7em; position: absolute; top: -7px; left: 2px;'>-0.051</span>\n",
       "              </div> <div style='position:relative; padding: 8px 10px; background-color: #DB1F48; display: inline-block'>\n",
       "                <span>perfection</span>\n",
       "                <span style='font-size: 0.7em; position: absolute; top: -7px; left: 2px;'>0.031</span>\n",
       "              </div> the plot is based on a terrorist attack with a nuclear weapon in san francisco i <div style='position:relative; padding: 8px 10px; background-color: #DB1F48; display: inline-block'>\n",
       "                <span>think</span>\n",
       "                <span style='font-size: 0.7em; position: absolute; top: -7px; left: 2px;'>0.062</span>\n",
       "              </div> that is as far as i can go i am laughing too hard i know it should not be funny but lolololololololol move <div style='position:relative; padding: 8px 10px; background-color: #004369; display: inline-block'>\n",
       "                <span>over</span>\n",
       "                <span style='font-size: 0.7em; position: absolute; top: -7px; left: 2px;'>-0.034</span>\n",
       "              </div> ed wood <div style='position:relative; padding: 8px 10px; background-color: #DB1F48; display: inline-block'>\n",
       "                <span>regard</span>\n",
       "                <span style='font-size: 0.7em; position: absolute; top: -7px; left: 2px;'>0.038</span>\n",
       "              </div> s dato</div>"
      ],
      "text/plain": [
       "<IPython.core.display.HTML object>"
      ]
     },
     "metadata": {},
     "output_type": "display_data"
    }
   ],
   "source": [
    "highlight_signal_words(shap_values[3, : , 'LABEL_1'])"
   ]
  },
  {
   "cell_type": "code",
   "execution_count": 51,
   "metadata": {},
   "outputs": [
    {
     "data": {
      "text/plain": [
       "(10, None, 2)"
      ]
     },
     "execution_count": 51,
     "metadata": {},
     "output_type": "execute_result"
    }
   ],
   "source": []
  }
 ],
 "metadata": {
  "kernelspec": {
   "display_name": "env",
   "language": "python",
   "name": "python3"
  },
  "language_info": {
   "codemirror_mode": {
    "name": "ipython",
    "version": 3
   },
   "file_extension": ".py",
   "mimetype": "text/x-python",
   "name": "python",
   "nbconvert_exporter": "python",
   "pygments_lexer": "ipython3",
   "version": "3.9.6"
  },
  "orig_nbformat": 4
 },
 "nbformat": 4,
 "nbformat_minor": 2
}
